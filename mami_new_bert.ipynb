{
  "nbformat": 4,
  "nbformat_minor": 0,
  "metadata": {
    "colab": {
      "name": "mami_new_bert.ipynb",
      "provenance": [],
      "collapsed_sections": []
    },
    "kernelspec": {
      "name": "python3",
      "display_name": "Python 3"
    },
    "language_info": {
      "name": "python"
    },
    "accelerator": "GPU",
    "gpuClass": "standard"
  },
  "cells": [
    {
      "cell_type": "code",
      "execution_count": null,
      "metadata": {
        "colab": {
          "base_uri": "https://localhost:8080/"
        },
        "id": "bNxVpIl5hgSO",
        "outputId": "b325b927-25fd-4e65-b770-33a9c1eab731"
      },
      "outputs": [
        {
          "output_type": "stream",
          "name": "stdout",
          "text": [
            "Mounted at /content/drive\n"
          ]
        }
      ],
      "source": [
        "from google.colab import drive\n",
        "drive.mount('/content/drive')"
      ]
    },
    {
      "cell_type": "code",
      "source": [
        "# download the required pacakges\n",
        "!pip install tensorflow_text"
      ],
      "metadata": {
        "colab": {
          "base_uri": "https://localhost:8080/"
        },
        "id": "EukQKk4Vkj86",
        "outputId": "edd21304-19cd-462b-84c9-8f2d948d618d"
      },
      "execution_count": null,
      "outputs": [
        {
          "output_type": "stream",
          "name": "stdout",
          "text": [
            "Looking in indexes: https://pypi.org/simple, https://us-python.pkg.dev/colab-wheels/public/simple/\n",
            "Collecting tensorflow_text\n",
            "  Downloading tensorflow_text-2.9.0-cp37-cp37m-manylinux_2_17_x86_64.manylinux2014_x86_64.whl (4.6 MB)\n",
            "\u001b[K     |████████████████████████████████| 4.6 MB 7.2 MB/s \n",
            "\u001b[?25hRequirement already satisfied: tensorflow-hub>=0.8.0 in /usr/local/lib/python3.7/dist-packages (from tensorflow_text) (0.12.0)\n",
            "Collecting tensorflow<2.10,>=2.9.0\n",
            "  Downloading tensorflow-2.9.1-cp37-cp37m-manylinux_2_17_x86_64.manylinux2014_x86_64.whl (511.7 MB)\n",
            "\u001b[K     |████████████████████████████████| 511.7 MB 6.3 kB/s \n",
            "\u001b[?25hRequirement already satisfied: absl-py>=1.0.0 in /usr/local/lib/python3.7/dist-packages (from tensorflow<2.10,>=2.9.0->tensorflow_text) (1.1.0)\n",
            "Requirement already satisfied: wrapt>=1.11.0 in /usr/local/lib/python3.7/dist-packages (from tensorflow<2.10,>=2.9.0->tensorflow_text) (1.14.1)\n",
            "Requirement already satisfied: setuptools in /usr/local/lib/python3.7/dist-packages (from tensorflow<2.10,>=2.9.0->tensorflow_text) (57.4.0)\n",
            "Requirement already satisfied: grpcio<2.0,>=1.24.3 in /usr/local/lib/python3.7/dist-packages (from tensorflow<2.10,>=2.9.0->tensorflow_text) (1.46.3)\n",
            "Requirement already satisfied: typing-extensions>=3.6.6 in /usr/local/lib/python3.7/dist-packages (from tensorflow<2.10,>=2.9.0->tensorflow_text) (4.1.1)\n",
            "Requirement already satisfied: libclang>=13.0.0 in /usr/local/lib/python3.7/dist-packages (from tensorflow<2.10,>=2.9.0->tensorflow_text) (14.0.1)\n",
            "Collecting keras<2.10.0,>=2.9.0rc0\n",
            "  Downloading keras-2.9.0-py2.py3-none-any.whl (1.6 MB)\n",
            "\u001b[K     |████████████████████████████████| 1.6 MB 53.2 MB/s \n",
            "\u001b[?25hCollecting flatbuffers<2,>=1.12\n",
            "  Downloading flatbuffers-1.12-py2.py3-none-any.whl (15 kB)\n",
            "Requirement already satisfied: numpy>=1.20 in /usr/local/lib/python3.7/dist-packages (from tensorflow<2.10,>=2.9.0->tensorflow_text) (1.21.6)\n",
            "Requirement already satisfied: h5py>=2.9.0 in /usr/local/lib/python3.7/dist-packages (from tensorflow<2.10,>=2.9.0->tensorflow_text) (3.1.0)\n",
            "Requirement already satisfied: keras-preprocessing>=1.1.1 in /usr/local/lib/python3.7/dist-packages (from tensorflow<2.10,>=2.9.0->tensorflow_text) (1.1.2)\n",
            "Collecting tensorboard<2.10,>=2.9\n",
            "  Downloading tensorboard-2.9.1-py3-none-any.whl (5.8 MB)\n",
            "\u001b[K     |████████████████████████████████| 5.8 MB 53.0 MB/s \n",
            "\u001b[?25hRequirement already satisfied: tensorflow-io-gcs-filesystem>=0.23.1 in /usr/local/lib/python3.7/dist-packages (from tensorflow<2.10,>=2.9.0->tensorflow_text) (0.26.0)\n",
            "Requirement already satisfied: opt-einsum>=2.3.2 in /usr/local/lib/python3.7/dist-packages (from tensorflow<2.10,>=2.9.0->tensorflow_text) (3.3.0)\n",
            "Requirement already satisfied: termcolor>=1.1.0 in /usr/local/lib/python3.7/dist-packages (from tensorflow<2.10,>=2.9.0->tensorflow_text) (1.1.0)\n",
            "Requirement already satisfied: six>=1.12.0 in /usr/local/lib/python3.7/dist-packages (from tensorflow<2.10,>=2.9.0->tensorflow_text) (1.15.0)\n",
            "Requirement already satisfied: astunparse>=1.6.0 in /usr/local/lib/python3.7/dist-packages (from tensorflow<2.10,>=2.9.0->tensorflow_text) (1.6.3)\n",
            "Requirement already satisfied: google-pasta>=0.1.1 in /usr/local/lib/python3.7/dist-packages (from tensorflow<2.10,>=2.9.0->tensorflow_text) (0.2.0)\n",
            "Requirement already satisfied: protobuf<3.20,>=3.9.2 in /usr/local/lib/python3.7/dist-packages (from tensorflow<2.10,>=2.9.0->tensorflow_text) (3.17.3)\n",
            "Collecting tensorflow-estimator<2.10.0,>=2.9.0rc0\n",
            "  Downloading tensorflow_estimator-2.9.0-py2.py3-none-any.whl (438 kB)\n",
            "\u001b[K     |████████████████████████████████| 438 kB 35.7 MB/s \n",
            "\u001b[?25hCollecting gast<=0.4.0,>=0.2.1\n",
            "  Downloading gast-0.4.0-py3-none-any.whl (9.8 kB)\n",
            "Requirement already satisfied: packaging in /usr/local/lib/python3.7/dist-packages (from tensorflow<2.10,>=2.9.0->tensorflow_text) (21.3)\n",
            "Requirement already satisfied: wheel<1.0,>=0.23.0 in /usr/local/lib/python3.7/dist-packages (from astunparse>=1.6.0->tensorflow<2.10,>=2.9.0->tensorflow_text) (0.37.1)\n",
            "Requirement already satisfied: cached-property in /usr/local/lib/python3.7/dist-packages (from h5py>=2.9.0->tensorflow<2.10,>=2.9.0->tensorflow_text) (1.5.2)\n",
            "Requirement already satisfied: tensorboard-data-server<0.7.0,>=0.6.0 in /usr/local/lib/python3.7/dist-packages (from tensorboard<2.10,>=2.9->tensorflow<2.10,>=2.9.0->tensorflow_text) (0.6.1)\n",
            "Requirement already satisfied: werkzeug>=1.0.1 in /usr/local/lib/python3.7/dist-packages (from tensorboard<2.10,>=2.9->tensorflow<2.10,>=2.9.0->tensorflow_text) (1.0.1)\n",
            "Requirement already satisfied: markdown>=2.6.8 in /usr/local/lib/python3.7/dist-packages (from tensorboard<2.10,>=2.9->tensorflow<2.10,>=2.9.0->tensorflow_text) (3.3.7)\n",
            "Requirement already satisfied: tensorboard-plugin-wit>=1.6.0 in /usr/local/lib/python3.7/dist-packages (from tensorboard<2.10,>=2.9->tensorflow<2.10,>=2.9.0->tensorflow_text) (1.8.1)\n",
            "Requirement already satisfied: requests<3,>=2.21.0 in /usr/local/lib/python3.7/dist-packages (from tensorboard<2.10,>=2.9->tensorflow<2.10,>=2.9.0->tensorflow_text) (2.23.0)\n",
            "Requirement already satisfied: google-auth-oauthlib<0.5,>=0.4.1 in /usr/local/lib/python3.7/dist-packages (from tensorboard<2.10,>=2.9->tensorflow<2.10,>=2.9.0->tensorflow_text) (0.4.6)\n",
            "Requirement already satisfied: google-auth<3,>=1.6.3 in /usr/local/lib/python3.7/dist-packages (from tensorboard<2.10,>=2.9->tensorflow<2.10,>=2.9.0->tensorflow_text) (1.35.0)\n",
            "Requirement already satisfied: rsa<5,>=3.1.4 in /usr/local/lib/python3.7/dist-packages (from google-auth<3,>=1.6.3->tensorboard<2.10,>=2.9->tensorflow<2.10,>=2.9.0->tensorflow_text) (4.8)\n",
            "Requirement already satisfied: pyasn1-modules>=0.2.1 in /usr/local/lib/python3.7/dist-packages (from google-auth<3,>=1.6.3->tensorboard<2.10,>=2.9->tensorflow<2.10,>=2.9.0->tensorflow_text) (0.2.8)\n",
            "Requirement already satisfied: cachetools<5.0,>=2.0.0 in /usr/local/lib/python3.7/dist-packages (from google-auth<3,>=1.6.3->tensorboard<2.10,>=2.9->tensorflow<2.10,>=2.9.0->tensorflow_text) (4.2.4)\n",
            "Requirement already satisfied: requests-oauthlib>=0.7.0 in /usr/local/lib/python3.7/dist-packages (from google-auth-oauthlib<0.5,>=0.4.1->tensorboard<2.10,>=2.9->tensorflow<2.10,>=2.9.0->tensorflow_text) (1.3.1)\n",
            "Requirement already satisfied: importlib-metadata>=4.4 in /usr/local/lib/python3.7/dist-packages (from markdown>=2.6.8->tensorboard<2.10,>=2.9->tensorflow<2.10,>=2.9.0->tensorflow_text) (4.11.4)\n",
            "Requirement already satisfied: zipp>=0.5 in /usr/local/lib/python3.7/dist-packages (from importlib-metadata>=4.4->markdown>=2.6.8->tensorboard<2.10,>=2.9->tensorflow<2.10,>=2.9.0->tensorflow_text) (3.8.0)\n",
            "Requirement already satisfied: pyasn1<0.5.0,>=0.4.6 in /usr/local/lib/python3.7/dist-packages (from pyasn1-modules>=0.2.1->google-auth<3,>=1.6.3->tensorboard<2.10,>=2.9->tensorflow<2.10,>=2.9.0->tensorflow_text) (0.4.8)\n",
            "Requirement already satisfied: idna<3,>=2.5 in /usr/local/lib/python3.7/dist-packages (from requests<3,>=2.21.0->tensorboard<2.10,>=2.9->tensorflow<2.10,>=2.9.0->tensorflow_text) (2.10)\n",
            "Requirement already satisfied: urllib3!=1.25.0,!=1.25.1,<1.26,>=1.21.1 in /usr/local/lib/python3.7/dist-packages (from requests<3,>=2.21.0->tensorboard<2.10,>=2.9->tensorflow<2.10,>=2.9.0->tensorflow_text) (1.24.3)\n",
            "Requirement already satisfied: certifi>=2017.4.17 in /usr/local/lib/python3.7/dist-packages (from requests<3,>=2.21.0->tensorboard<2.10,>=2.9->tensorflow<2.10,>=2.9.0->tensorflow_text) (2022.6.15)\n",
            "Requirement already satisfied: chardet<4,>=3.0.2 in /usr/local/lib/python3.7/dist-packages (from requests<3,>=2.21.0->tensorboard<2.10,>=2.9->tensorflow<2.10,>=2.9.0->tensorflow_text) (3.0.4)\n",
            "Requirement already satisfied: oauthlib>=3.0.0 in /usr/local/lib/python3.7/dist-packages (from requests-oauthlib>=0.7.0->google-auth-oauthlib<0.5,>=0.4.1->tensorboard<2.10,>=2.9->tensorflow<2.10,>=2.9.0->tensorflow_text) (3.2.0)\n",
            "Requirement already satisfied: pyparsing!=3.0.5,>=2.0.2 in /usr/local/lib/python3.7/dist-packages (from packaging->tensorflow<2.10,>=2.9.0->tensorflow_text) (3.0.9)\n",
            "Installing collected packages: tensorflow-estimator, tensorboard, keras, gast, flatbuffers, tensorflow, tensorflow-text\n",
            "  Attempting uninstall: tensorflow-estimator\n",
            "    Found existing installation: tensorflow-estimator 2.8.0\n",
            "    Uninstalling tensorflow-estimator-2.8.0:\n",
            "      Successfully uninstalled tensorflow-estimator-2.8.0\n",
            "  Attempting uninstall: tensorboard\n",
            "    Found existing installation: tensorboard 2.8.0\n",
            "    Uninstalling tensorboard-2.8.0:\n",
            "      Successfully uninstalled tensorboard-2.8.0\n",
            "  Attempting uninstall: keras\n",
            "    Found existing installation: keras 2.8.0\n",
            "    Uninstalling keras-2.8.0:\n",
            "      Successfully uninstalled keras-2.8.0\n",
            "  Attempting uninstall: gast\n",
            "    Found existing installation: gast 0.5.3\n",
            "    Uninstalling gast-0.5.3:\n",
            "      Successfully uninstalled gast-0.5.3\n",
            "  Attempting uninstall: flatbuffers\n",
            "    Found existing installation: flatbuffers 2.0\n",
            "    Uninstalling flatbuffers-2.0:\n",
            "      Successfully uninstalled flatbuffers-2.0\n",
            "  Attempting uninstall: tensorflow\n",
            "    Found existing installation: tensorflow 2.8.2+zzzcolab20220527125636\n",
            "    Uninstalling tensorflow-2.8.2+zzzcolab20220527125636:\n",
            "      Successfully uninstalled tensorflow-2.8.2+zzzcolab20220527125636\n",
            "Successfully installed flatbuffers-1.12 gast-0.4.0 keras-2.9.0 tensorboard-2.9.1 tensorflow-2.9.1 tensorflow-estimator-2.9.0 tensorflow-text-2.9.0\n"
          ]
        }
      ]
    },
    {
      "cell_type": "code",
      "source": [
        "!ls '/content/drive/MyDrive/Colab Notebooks/MAMI'"
      ],
      "metadata": {
        "colab": {
          "base_uri": "https://localhost:8080/"
        },
        "id": "nE8aaVY8hmIc",
        "outputId": "89779b37-b7e6-4bcd-a632-7dc13641112c"
      },
      "execution_count": null,
      "outputs": [
        {
          "output_type": "stream",
          "name": "stdout",
          "text": [
            "test  test.zip\ttrain  training.zip  trial  trial.zip\n"
          ]
        }
      ]
    },
    {
      "cell_type": "code",
      "source": [
        "# import zipfile\n",
        " \n",
        "# zip_file = \"/content/drive/MyDrive/Colab Notebooks/MAMI/training.zip\"\n",
        " \n",
        "# try:\n",
        "#     with zipfile.ZipFile(zip_file) as z:\n",
        "#         z.extractall(\"/content/drive/MyDrive/Colab Notebooks/MAMI/train\")\n",
        "#         print(\"Extracted all\")\n",
        "# except:\n",
        "#         print(\"Invalid file\")"
      ],
      "metadata": {
        "id": "ICxz8qvFf293"
      },
      "execution_count": null,
      "outputs": []
    },
    {
      "cell_type": "code",
      "source": [
        "#import zipfile\n",
        " \n",
        "#zip_file = \"/content/drive/MyDrive/Colab Notebooks/MAMI/test.zip\"\n",
        " \n",
        "#try:\n",
        "#   with zipfile.ZipFile(zip_file) as z:\n",
        "#        z.setpassword(pwd = bytes('*MaMiSemEval2022!', 'utf-8'))\n",
        "#        z.extractall(\"/content/drive/MyDrive/Colab Notebooks/MAMI/test\")\n",
        "#         print(\"Extracted all\")\n",
        "#except:\n",
        "#    print(\"Invalid file\")"
      ],
      "metadata": {
        "id": "lAObFeqUpMZm"
      },
      "execution_count": null,
      "outputs": []
    },
    {
      "cell_type": "code",
      "source": [
        "#import zipfile\n",
        " \n",
        "#zip_file = \"/content/drive/MyDrive/Colab Notebooks/MAMI/trial.zip\"\n",
        " \n",
        "#try:\n",
        "#    with zipfile.ZipFile(zip_file) as z:\n",
        "#         z.setpassword(pwd = bytes('*MaMiSemEval2022!', 'utf-8'))\n",
        "#         z.extractall(\"/content/drive/MyDrive/Colab Notebooks/MAMI/trial\")\n",
        "#         print(\"Extracted all\")\n",
        "#except:\n",
        "#     print(\"Invalid file\")"
      ],
      "metadata": {
        "id": "OI1bXc4zixlr"
      },
      "execution_count": null,
      "outputs": []
    },
    {
      "cell_type": "code",
      "source": [
        "!ls '/content/drive/MyDrive/Colab Notebooks/MAMI/train/TRAINING/training.csv'"
      ],
      "metadata": {
        "colab": {
          "base_uri": "https://localhost:8080/"
        },
        "id": "O0etM31shLUE",
        "outputId": "1b591657-0945-4a74-8c4e-4e6bd600b82c"
      },
      "execution_count": null,
      "outputs": [
        {
          "output_type": "stream",
          "name": "stdout",
          "text": [
            "'/content/drive/MyDrive/Colab Notebooks/MAMI/train/TRAINING/training.csv'\n"
          ]
        }
      ]
    },
    {
      "cell_type": "code",
      "source": [
        "!ls '/content/drive/MyDrive/Colab Notebooks/MAMI/trial/Users/fersiniel/Desktop/MAMI - TO LABEL/TRIAL DATASET'"
      ],
      "metadata": {
        "colab": {
          "base_uri": "https://localhost:8080/"
        },
        "id": "8DODPrKzi350",
        "outputId": "68c06de1-e47b-4688-d335-016b42bdad79"
      },
      "execution_count": null,
      "outputs": [
        {
          "output_type": "stream",
          "name": "stdout",
          "text": [
            "1012.jpg  122.jpg   1380.jpg  191.jpg  349.jpg\t524.jpg  719.jpg  919.jpg\n",
            "1032.jpg  1236.jpg  1381.jpg  207.jpg  381.jpg\t525.jpg  739.jpg  922.jpg\n",
            "1047.jpg  1263.jpg  1384.jpg  216.jpg  383.jpg\t565.jpg  741.jpg  925.jpg\n",
            "104.jpg   126.jpg   1408.jpg  230.jpg  415.jpg\t571.jpg  788.jpg  960.jpg\n",
            "1078.jpg  1285.jpg  142.jpg   236.jpg  441.jpg\t576.jpg  822.jpg  977.jpg\n",
            "1094.jpg  1294.jpg  1440.jpg  246.jpg  442.jpg\t58.jpg\t 828.jpg  97.jpg\n",
            "1132.jpg  1309.jpg  156.jpg   247.jpg  447.jpg\t625.jpg  840.jpg  980.jpg\n",
            "1146.jpg  1310.jpg  157.jpg   274.jpg  448.jpg\t643.jpg  854.jpg  981.jpg\n",
            "1159.jpg  1327.jpg  161.jpg   282.jpg  482.jpg\t656.jpg  859.jpg  989.jpg\n",
            "1174.jpg  133.jpg   162.jpg   28.jpg   491.jpg\t666.jpg  865.jpg  trial.csv\n",
            "1175.jpg  1354.jpg  165.jpg   300.jpg  492.jpg\t670.jpg  872.jpg\n",
            "1181.jpg  1363.jpg  175.jpg   30.jpg   519.jpg\t700.jpg  899.jpg\n",
            "1229.jpg  1377.jpg  181.jpg   33.jpg   520.jpg\t717.jpg  89.jpg\n"
          ]
        }
      ]
    },
    {
      "cell_type": "code",
      "source": [
        "!ls '/content/drive/MyDrive/Colab Notebooks/MAMI/test/test/Test.csv'"
      ],
      "metadata": {
        "colab": {
          "base_uri": "https://localhost:8080/"
        },
        "id": "k4jwALoVnr5U",
        "outputId": "5aa49f68-0bc3-44f0-f595-6a25bc6a8b17"
      },
      "execution_count": null,
      "outputs": [
        {
          "output_type": "stream",
          "name": "stdout",
          "text": [
            "'/content/drive/MyDrive/Colab Notebooks/MAMI/test/test/Test.csv'\n"
          ]
        }
      ]
    },
    {
      "cell_type": "code",
      "source": [
        "import pandas as pd\n",
        "import re\n",
        "import numpy as np\n",
        "import itertools\n",
        "import collections\n",
        "from collections import defaultdict\n",
        "import matplotlib.pyplot as plt\n",
        "from wordcloud import WordCloud\n",
        "\n",
        "import nltk\n",
        "nltk.download('treebank')\n",
        "nltk.download('stopwords')\n",
        "nltk.download('punkt')\n",
        "nltk.download('wordnet')\n",
        "nltk.download('averaged_perceptron_tagger')\n",
        "from nltk.corpus import stopwords\n",
        "from nltk.corpus import wordnet as wn\n",
        "from nltk.stem.wordnet import WordNetLemmatizer\n",
        "from nltk import word_tokenize, pos_tag\n",
        "\n",
        "from sklearn.model_selection import train_test_split\n",
        "from sklearn.preprocessing import LabelEncoder\n",
        "from sklearn.metrics import accuracy_score, f1_score, precision_score, recall_score, confusion_matrix\n",
        "\n",
        "import tensorflow as tf\n",
        "\n",
        "from gensim.models import Word2Vec"
      ],
      "metadata": {
        "colab": {
          "base_uri": "https://localhost:8080/"
        },
        "id": "QidtND5Dibw_",
        "outputId": "f821fce1-5159-49a9-8077-693a672eafab"
      },
      "execution_count": null,
      "outputs": [
        {
          "output_type": "stream",
          "name": "stderr",
          "text": [
            "[nltk_data] Downloading package treebank to /root/nltk_data...\n",
            "[nltk_data]   Unzipping corpora/treebank.zip.\n",
            "[nltk_data] Downloading package stopwords to /root/nltk_data...\n",
            "[nltk_data]   Unzipping corpora/stopwords.zip.\n",
            "[nltk_data] Downloading package punkt to /root/nltk_data...\n",
            "[nltk_data]   Unzipping tokenizers/punkt.zip.\n",
            "[nltk_data] Downloading package wordnet to /root/nltk_data...\n",
            "[nltk_data] Downloading package averaged_perceptron_tagger to\n",
            "[nltk_data]     /root/nltk_data...\n",
            "[nltk_data]   Unzipping taggers/averaged_perceptron_tagger.zip.\n"
          ]
        }
      ]
    },
    {
      "cell_type": "code",
      "source": [
        "# Reading the csv file into a dataframe\n",
        "training_data = pd.read_csv(\"/content/drive/MyDrive/Colab Notebooks/MAMI/train/TRAINING/training.csv\",'\\t')\n",
        "trial_data = pd.read_csv(\"/content/drive/MyDrive/Colab Notebooks/MAMI/trial/Users/fersiniel/Desktop/MAMI - TO LABEL/TRIAL DATASET/trial.csv\",'\\t')\n",
        "test_data = pd.read_csv('/content/drive/MyDrive/Colab Notebooks/MAMI/test/test/Test.csv','\\t')\n",
        "# Printing the first five elements in the dataframe\n",
        "print(training_data.head())\n",
        "print(trial_data.head())\n"
      ],
      "metadata": {
        "colab": {
          "base_uri": "https://localhost:8080/"
        },
        "id": "O5Fhn_Cxikyk",
        "outputId": "d9001d41-dc24-490f-aa13-cc922949e694"
      },
      "execution_count": null,
      "outputs": [
        {
          "output_type": "stream",
          "name": "stderr",
          "text": [
            "/usr/local/lib/python3.7/dist-packages/IPython/core/interactiveshell.py:2882: FutureWarning: In a future version of pandas all arguments of read_csv except for the argument 'filepath_or_buffer' will be keyword-only\n",
            "  exec(code_obj, self.user_global_ns, self.user_ns)\n"
          ]
        },
        {
          "output_type": "stream",
          "name": "stdout",
          "text": [
            "   file_name  misogynous  shaming  stereotype  objectification  violence  \\\n",
            "0      1.jpg           0        0           0                0         0   \n",
            "1     10.jpg           1        0           0                0         1   \n",
            "2   1000.jpg           0        0           0                0         0   \n",
            "3  10000.jpg           0        0           0                0         0   \n",
            "4  10006.jpg           0        0           0                0         0   \n",
            "\n",
            "                                  Text Transcription  \n",
            "0                                      Milk Milk.zip  \n",
            "1  ROSES ARE RED, VIOLETS ARE BLUE IF YOU DON'T S...  \n",
            "2  BREAKING NEWS: Russia releases photo of DONALD...  \n",
            "3                       MAN SEEKING WOMAN Ignad 18 O  \n",
            "4  Me explaining the deep lore of. J.R.R. Tolkein...  \n",
            "  file_name  misogynous  shaming  stereotype  objectification  violence  \\\n",
            "0    28.jpg           0        0           0                0         0   \n",
            "1    30.jpg           0        0           0                0         0   \n",
            "2    33.jpg           0        0           0                0         0   \n",
            "3    58.jpg           1        0           0                0         1   \n",
            "4    89.jpg           0        0           0                0         0   \n",
            "\n",
            "                                  Text Transcription  \n",
            "0  not now, dad. We should burn Jon Snow. stop it...  \n",
            "1  there may have been a mixcommunication with th...  \n",
            "2                      i shouldn't have sold my boat  \n",
            "3    Bitches be like, It was my fault i made him mad  \n",
            "4  find a picture of 4 girls together on FB make ...  \n"
          ]
        }
      ]
    },
    {
      "cell_type": "code",
      "source": [
        "print(test_data.head())"
      ],
      "metadata": {
        "colab": {
          "base_uri": "https://localhost:8080/"
        },
        "id": "6gbOqhvZwSb-",
        "outputId": "c48f7649-e0dc-4599-89ef-74ac3a05bd94"
      },
      "execution_count": null,
      "outputs": [
        {
          "output_type": "stream",
          "name": "stdout",
          "text": [
            "   file_name                                 Text Transcription\n",
            "0  15236.jpg  FACEBOOK SINGLES GROUPS BELIKE WHEN A NEW WOMA...\n",
            "1  15805.jpg    SO, IF YOU'RE A FEMINIST HOW CAN YOU EAT DAIRY?\n",
            "2  16254.jpg         WHEN A CUTE GIRL LEFT YOUR MESSAGE ON SEEN\n",
            "3  16191.jpg  Photographing something you want to show every...\n",
            "4  15952.jpg  HEY BABE CAN YOU MAKE ME A SANDWICH? Hey babe ...\n"
          ]
        }
      ]
    },
    {
      "cell_type": "code",
      "source": [
        "# Preprocessing - removing unwanted characters, tokenization, stop-word removal\n",
        "def preprocess_data(tweet):\n",
        "    user_name = '@[A-Za-z0-9]+' # Pattern for matching the user names in the tweet\n",
        "    has_tag = '#[A-Za-z0-9]+' # Pattern for matching the hasgtags in the tweer\n",
        "    url = 'https?:\\/\\/[A-Za-z0-9\\.\\/\\-]+' # Pattern for matching the URLs in the tweet\n",
        "    \n",
        "    x = tweet.lower()  # Lower casing all the characters\n",
        "    #x = re.sub(user_name, '@USER', x)  # Replace the username with @USER word -> Optional\n",
        "    x = re.sub(user_name, '', x) # Replace the username with an empty characrer\n",
        "    #x = re.sub(has_tag,'HASH',x) # Replace the hashtags with HASH word -> Optional\n",
        "    x = re.sub(has_tag,'',x) # Replace the hashtags with an empty characrer\n",
        "    #x = re.sub(url, 'URL', x) # Replace the URLs with URL word -> Optional\n",
        "    x = re.sub(url, '', x) # Replace the URLs with an empty characrer\n",
        "    x = re.sub(\"[^a-zA-Z0-9]\", \" \",x) # Replace all the characters except alphabets and digits from the tweet\n",
        "    x = re.sub(\"rt\\s+\",'',x) # Replace the retweet character \"rt\" from the tweet\n",
        "  \n",
        "    tokens = word_tokenize(x) # Tokenization; splitting the text into tokens\n",
        "    # negation_words = [\"mustn't\", \"won't\",'wouldn', 'doesn', \"aren't\",\"needn't\",'hasn','needn', \"weren't\",\n",
        "    #               'didn','wasn','no', 'hadn', \"doesn't\",'aren',  \"shouldn't\",'don','ain',\"haven't\", 'couldn',\n",
        "    #               'mightn',\"mightn't\", 'not', \"wouldn't\", \"hasn't\", \"shan't\", \"wasn't\", \"couldn't\", 'won',\n",
        "    #               'shouldn', 'isn', \"didn't\", 'haven', 'nor' \"don't\", \"hadn't\", \"isn't\", 'weren']\n",
        "\n",
        "    stop_words = set(stopwords.words(\"english\")) # Removing the most frequently occurring words (stop words) from the text               \n",
        "    words = [w for w in tokens if not w in stop_words] \n",
        "\n",
        "    return(\" \".join(words)) # Combine the tokenized words to form a sentence"
      ],
      "metadata": {
        "id": "4K2m8yQ6iloM"
      },
      "execution_count": null,
      "outputs": []
    },
    {
      "cell_type": "code",
      "source": [
        "training_data['Text Transcription'] = training_data['Text Transcription'].apply(lambda x: preprocess_data(x)) # Apply the clean_data() to all the entries in the dataframe\n",
        "print(training_data.head())\n",
        "trial_data['Text Transcription'] = trial_data['Text Transcription'].apply(lambda x: preprocess_data(x)) # Apply the clean_data() to all the entries in the dataframe\n",
        "print(trial_data.head())\n",
        "test_data['Text Transcription'] = test_data['Text Transcription'].apply(lambda x: preprocess_data(x)) # Apply the clean_data() to all the entries in the dataframe\n",
        "print(test_data.head())"
      ],
      "metadata": {
        "colab": {
          "base_uri": "https://localhost:8080/"
        },
        "id": "oFaH6cP5iwPp",
        "outputId": "77768b40-4229-4f00-b865-458e7947f718"
      },
      "execution_count": null,
      "outputs": [
        {
          "output_type": "stream",
          "name": "stdout",
          "text": [
            "   file_name  misogynous  shaming  stereotype  objectification  violence  \\\n",
            "0      1.jpg           0        0           0                0         0   \n",
            "1     10.jpg           1        0           0                0         1   \n",
            "2   1000.jpg           0        0           0                0         0   \n",
            "3  10000.jpg           0        0           0                0         0   \n",
            "4  10006.jpg           0        0           0                0         0   \n",
            "\n",
            "                                  Text Transcription  \n",
            "0                                      milk milk zip  \n",
            "1  roses red violets blue say yes rape quickmeme com  \n",
            "2  breaking news russia releases photo donald tru...  \n",
            "3                         man seeking woman ignad 18  \n",
            "4  explaining deep lore j r r tolkein world arda ...  \n",
            "  file_name  misogynous  shaming  stereotype  objectification  violence  \\\n",
            "0    28.jpg           0        0           0                0         0   \n",
            "1    30.jpg           0        0           0                0         0   \n",
            "2    33.jpg           0        0           0                0         0   \n",
            "3    58.jpg           1        0           0                0         1   \n",
            "4    89.jpg           0        0           0                0         0   \n",
            "\n",
            "                                  Text Transcription  \n",
            "0  dad burn jon snow stop dad know happen becomes...  \n",
            "1  may mixcommunication decorator happy birthday ...  \n",
            "2                                          sold boat  \n",
            "3                        bitches like fault made mad  \n",
            "4  find picture 4 girls together fb make comemnt ...  \n",
            "   file_name                                 Text Transcription\n",
            "0  15236.jpg  facebook singles groups belike new woman joins...\n",
            "1  15805.jpg                                 feminist eat dairy\n",
            "2  16254.jpg                        cute girl left message seen\n",
            "3  16191.jpg  photographing something want show everyone obj...\n",
            "4  15952.jpg  hey babe make sandwich hey babe make sandwich ...\n"
          ]
        }
      ]
    },
    {
      "cell_type": "code",
      "source": [
        "# Converting the dataframe into list\n",
        "training_reviews = training_data['Text Transcription'].tolist()\n",
        "sentiment = training_data['misogynous'].tolist()\n",
        "\n",
        "le = LabelEncoder()\n",
        "labels = le.fit_transform(sentiment)\n",
        "#Y = le.fit_transform(sentiment)\n",
        "#labels = tf.keras.utils.to_categorical(labels)\n",
        "tr_labels=sentiment\n",
        "test_reviews = trial_data['Text Transcription'].tolist()\n",
        "te_labels = trial_data['misogynous'].tolist()\n",
        "new_test_reviews = test_data['Text Transcription'].tolist()"
      ],
      "metadata": {
        "id": "6yiYi4cpi3Pu"
      },
      "execution_count": null,
      "outputs": []
    },
    {
      "cell_type": "code",
      "source": [
        "set(tr_labels)"
      ],
      "metadata": {
        "colab": {
          "base_uri": "https://localhost:8080/"
        },
        "id": "E2TAMiNmi9Bk",
        "outputId": "ff53961b-aa65-4918-b74b-ef200996821e"
      },
      "execution_count": null,
      "outputs": [
        {
          "output_type": "execute_result",
          "data": {
            "text/plain": [
              "{0, 1}"
            ]
          },
          "metadata": {},
          "execution_count": 16
        }
      ]
    },
    {
      "cell_type": "code",
      "source": [
        "# training_reviews, test_reviews, tr_labels, te_labels = train_test_split(reviews, Y, \n",
        "#                                                                                 test_size=0.20, \n",
        "#                                                                                 random_state=42\n",
        "#                                                                                 )\n",
        "\n",
        "training_labels, test_labels = tf.keras.utils.to_categorical(tr_labels), tf.keras.utils.to_categorical(te_labels)"
      ],
      "metadata": {
        "id": "xWdDCU3Vi_6E"
      },
      "execution_count": null,
      "outputs": []
    },
    {
      "cell_type": "code",
      "source": [
        "test_labels[0:10]"
      ],
      "metadata": {
        "colab": {
          "base_uri": "https://localhost:8080/"
        },
        "id": "lBja5pkgjJcV",
        "outputId": "18b38580-e72e-4db0-8b9d-70e7dbda1493"
      },
      "execution_count": null,
      "outputs": [
        {
          "output_type": "execute_result",
          "data": {
            "text/plain": [
              "array([[1., 0.],\n",
              "       [1., 0.],\n",
              "       [1., 0.],\n",
              "       [0., 1.],\n",
              "       [1., 0.],\n",
              "       [0., 1.],\n",
              "       [1., 0.],\n",
              "       [1., 0.],\n",
              "       [0., 1.],\n",
              "       [1., 0.]], dtype=float32)"
            ]
          },
          "metadata": {},
          "execution_count": 18
        }
      ]
    },
    {
      "cell_type": "code",
      "source": [
        "print (\"Number of training reviews is: \", len(training_reviews))\n",
        "print (\"Number of test reviews is: \", len(test_reviews))"
      ],
      "metadata": {
        "colab": {
          "base_uri": "https://localhost:8080/"
        },
        "id": "vlIP_-JmjPGl",
        "outputId": "6d9d9f82-dea9-424f-eb69-5d1fa44e6fa9"
      },
      "execution_count": null,
      "outputs": [
        {
          "output_type": "stream",
          "name": "stdout",
          "text": [
            "Number of training reviews is:  10000\n",
            "Number of test reviews is:  100\n"
          ]
        }
      ]
    },
    {
      "cell_type": "code",
      "source": [
        "vocab_size = 4000  # number of words to keep. This number has to be the number of unique words in the corpus. \n",
        "embedding_dim = 100 # Dimension of the vector representation for each word \n",
        "\n",
        "max_length = 0 # Length of the lengthiest tweet\n",
        "for i in range(len(training_data['Text Transcription'])):\n",
        "  x = word_tokenize(training_data['Text Transcription'][i])\n",
        "  if len(x) >  max_length:\n",
        "    max_length = len(x)\n",
        "    \n",
        "print(\"max_length = {}\".format(max_length))\n",
        "oov_tok = \"<OOV>\"  # Token to represent Out-of-Vocabulary words"
      ],
      "metadata": {
        "colab": {
          "base_uri": "https://localhost:8080/"
        },
        "id": "IbVEzlOZjTfF",
        "outputId": "74d7f417-68d7-4af5-8939-972d591cbdc1"
      },
      "execution_count": null,
      "outputs": [
        {
          "output_type": "stream",
          "name": "stdout",
          "text": [
            "max_length = 166\n"
          ]
        }
      ]
    },
    {
      "cell_type": "code",
      "source": [
        "tokenizer = tf.keras.preprocessing.text.Tokenizer(num_words = vocab_size, oov_token=oov_tok)\n",
        "tokenizer.fit_on_texts(training_reviews)\n",
        "word_index = tokenizer.word_index"
      ],
      "metadata": {
        "id": "9sEU0Ulujlcf"
      },
      "execution_count": null,
      "outputs": []
    },
    {
      "cell_type": "code",
      "source": [
        "# Pad the sequences so that they are all the same length\n",
        "training_sequences = tokenizer.texts_to_sequences(training_reviews)\n",
        "training_padded = tf.keras.preprocessing.sequence.pad_sequences(training_sequences,maxlen=max_length, \n",
        "                                                                padding='pre')\n",
        "\n",
        "test_sequences = tokenizer.texts_to_sequences(test_reviews)\n",
        "test_padded = tf.keras.preprocessing.sequence.pad_sequences(test_sequences,maxlen=max_length)"
      ],
      "metadata": {
        "id": "uoJosri0js0R"
      },
      "execution_count": null,
      "outputs": []
    },
    {
      "cell_type": "code",
      "source": [
        "training_padded[0:3]"
      ],
      "metadata": {
        "colab": {
          "base_uri": "https://localhost:8080/"
        },
        "id": "lQzrJdY1jzBF",
        "outputId": "1d7bb221-fb59-4ec4-f3f4-b93ec9310423"
      },
      "execution_count": null,
      "outputs": [
        {
          "output_type": "execute_result",
          "data": {
            "text/plain": [
              "array([[   0,    0,    0,    0,    0,    0,    0,    0,    0,    0,    0,\n",
              "           0,    0,    0,    0,    0,    0,    0,    0,    0,    0,    0,\n",
              "           0,    0,    0,    0,    0,    0,    0,    0,    0,    0,    0,\n",
              "           0,    0,    0,    0,    0,    0,    0,    0,    0,    0,    0,\n",
              "           0,    0,    0,    0,    0,    0,    0,    0,    0,    0,    0,\n",
              "           0,    0,    0,    0,    0,    0,    0,    0,    0,    0,    0,\n",
              "           0,    0,    0,    0,    0,    0,    0,    0,    0,    0,    0,\n",
              "           0,    0,    0,    0,    0,    0,    0,    0,    0,    0,    0,\n",
              "           0,    0,    0,    0,    0,    0,    0,    0,    0,    0,    0,\n",
              "           0,    0,    0,    0,    0,    0,    0,    0,    0,    0,    0,\n",
              "           0,    0,    0,    0,    0,    0,    0,    0,    0,    0,    0,\n",
              "           0,    0,    0,    0,    0,    0,    0,    0,    0,    0,    0,\n",
              "           0,    0,    0,    0,    0,    0,    0,    0,    0,    0,    0,\n",
              "           0,    0,    0,    0,    0,    0,    0,    0,    0,    0,    0,\n",
              "           0,    0,    0,    0,    0,    0,    0,    0,    0,  870,  870,\n",
              "           1],\n",
              "       [   0,    0,    0,    0,    0,    0,    0,    0,    0,    0,    0,\n",
              "           0,    0,    0,    0,    0,    0,    0,    0,    0,    0,    0,\n",
              "           0,    0,    0,    0,    0,    0,    0,    0,    0,    0,    0,\n",
              "           0,    0,    0,    0,    0,    0,    0,    0,    0,    0,    0,\n",
              "           0,    0,    0,    0,    0,    0,    0,    0,    0,    0,    0,\n",
              "           0,    0,    0,    0,    0,    0,    0,    0,    0,    0,    0,\n",
              "           0,    0,    0,    0,    0,    0,    0,    0,    0,    0,    0,\n",
              "           0,    0,    0,    0,    0,    0,    0,    0,    0,    0,    0,\n",
              "           0,    0,    0,    0,    0,    0,    0,    0,    0,    0,    0,\n",
              "           0,    0,    0,    0,    0,    0,    0,    0,    0,    0,    0,\n",
              "           0,    0,    0,    0,    0,    0,    0,    0,    0,    0,    0,\n",
              "           0,    0,    0,    0,    0,    0,    0,    0,    0,    0,    0,\n",
              "           0,    0,    0,    0,    0,    0,    0,    0,    0,    0,    0,\n",
              "           0,    0,    0,    0,    0,    0,    0,    0,    0,    0,    0,\n",
              "           0,    0,    0, 1221,  340,    1,  727,   71,  134,   97,   28,\n",
              "           2],\n",
              "       [   0,    0,    0,    0,    0,    0,    0,    0,    0,    0,    0,\n",
              "           0,    0,    0,    0,    0,    0,    0,    0,    0,    0,    0,\n",
              "           0,    0,    0,    0,    0,    0,    0,    0,    0,    0,    0,\n",
              "           0,    0,    0,    0,    0,    0,    0,    0,    0,    0,    0,\n",
              "           0,    0,    0,    0,    0,    0,    0,    0,    0,    0,    0,\n",
              "           0,    0,    0,    0,    0,    0,    0,    0,    0,    0,    0,\n",
              "           0,    0,    0,    0,    0,    0,    0,    0,    0,    0,    0,\n",
              "           0,    0,    0,    0,    0,    0,    0,    0,    0,    0,    0,\n",
              "           0,    0,    0,    0,    0,    0,    0,    0,    0,    0,    0,\n",
              "           0,    0,    0,    0,    0,    0,    0,    0,    0,    0,    0,\n",
              "           0,    0,    0,    0,    0,    0,    0,    0,    0,    0,    0,\n",
              "           0,    0,    0,    0,    0,    0,    0,    0,    0,    0,    0,\n",
              "           0,    0,    0,    0,    0,    0,    0,    0,    0,    0,    0,\n",
              "           0,    0,    0,    0,    0,    0,    0,  871,  232, 1073, 3508,\n",
              "         481, 1317,  208,   44, 1138,  914,  317,  193,  194, 2286,   45,\n",
              "         192]], dtype=int32)"
            ]
          },
          "metadata": {},
          "execution_count": 23
        }
      ]
    },
    {
      "cell_type": "code",
      "source": [
        "test_padded[0:3]"
      ],
      "metadata": {
        "colab": {
          "base_uri": "https://localhost:8080/"
        },
        "id": "vozHLsXyrDpK",
        "outputId": "f28ca8fb-3312-4a9b-f495-4bbf4b4a5207"
      },
      "execution_count": null,
      "outputs": [
        {
          "output_type": "execute_result",
          "data": {
            "text/plain": [
              "array([[   0,    0,    0,    0,    0,    0,    0,    0,    0,    0,    0,\n",
              "           0,    0,    0,    0,    0,    0,    0,    0,    0,    0,    0,\n",
              "           0,    0,    0,    0,    0,    0,    0,    0,    0,    0,    0,\n",
              "           0,    0,    0,    0,    0,    0,    0,    0,    0,    0,    0,\n",
              "           0,    0,    0,    0,    0,    0,    0,    0,    0,    0,    0,\n",
              "           0,    0,    0,    0,    0,    0,    0,    0,    0,    0,    0,\n",
              "           0,    0,    0,    0,    0,    0,    0,    0,    0,    0,    0,\n",
              "           0,    0,    0,    0,    0,    0,    0,    0,    0,    0,    0,\n",
              "           0,    0,    0,    0,    0,    0,    0,    0,    0,    0,    0,\n",
              "           0,    0,    0,    0,    0,    0,    0,    0,    0,    0,    0,\n",
              "           0,    0,    0,    0,    0,    0,    0,    0,    0,    0,    0,\n",
              "           0,    0,    0,    0,    0,    0,    0,    0,    0,    0,    0,\n",
              "           0,    0,    0,    0,    0,    0,    0,    0,    0,    0,    0,\n",
              "           0,    0,    0,    0,    0,    0,    0,  133, 1015,    1, 1705,\n",
              "          89,  133,   23,  832,  946,   78,    1,  517, 1705,   78, 1705,\n",
              "          78],\n",
              "       [   0,    0,    0,    0,    0,    0,    0,    0,    0,    0,    0,\n",
              "           0,    0,    0,    0,    0,    0,    0,    0,    0,    0,    0,\n",
              "           0,    0,    0,    0,    0,    0,    0,    0,    0,    0,    0,\n",
              "           0,    0,    0,    0,    0,    0,    0,    0,    0,    0,    0,\n",
              "           0,    0,    0,    0,    0,    0,    0,    0,    0,    0,    0,\n",
              "           0,    0,    0,    0,    0,    0,    0,    0,    0,    0,    0,\n",
              "           0,    0,    0,    0,    0,    0,    0,    0,    0,    0,    0,\n",
              "           0,    0,    0,    0,    0,    0,    0,    0,    0,    0,    0,\n",
              "           0,    0,    0,    0,    0,    0,    0,    0,    0,    0,    0,\n",
              "           0,    0,    0,    0,    0,    0,    0,    0,    0,    0,    0,\n",
              "           0,    0,    0,    0,    0,    0,    0,    0,    0,    0,    0,\n",
              "           0,    0,    0,    0,    0,    0,    0,    0,    0,    0,    0,\n",
              "           0,    0,    0,    0,    0,    0,    0,    0,    0,    0,    0,\n",
              "           0,    0,    0,    0,    0,    0,    0,    0,    0,    0,    0,\n",
              "         287,    1,    1,  172,  463,  116, 1403, 1403, 1403,  788,  213,\n",
              "           1],\n",
              "       [   0,    0,    0,    0,    0,    0,    0,    0,    0,    0,    0,\n",
              "           0,    0,    0,    0,    0,    0,    0,    0,    0,    0,    0,\n",
              "           0,    0,    0,    0,    0,    0,    0,    0,    0,    0,    0,\n",
              "           0,    0,    0,    0,    0,    0,    0,    0,    0,    0,    0,\n",
              "           0,    0,    0,    0,    0,    0,    0,    0,    0,    0,    0,\n",
              "           0,    0,    0,    0,    0,    0,    0,    0,    0,    0,    0,\n",
              "           0,    0,    0,    0,    0,    0,    0,    0,    0,    0,    0,\n",
              "           0,    0,    0,    0,    0,    0,    0,    0,    0,    0,    0,\n",
              "           0,    0,    0,    0,    0,    0,    0,    0,    0,    0,    0,\n",
              "           0,    0,    0,    0,    0,    0,    0,    0,    0,    0,    0,\n",
              "           0,    0,    0,    0,    0,    0,    0,    0,    0,    0,    0,\n",
              "           0,    0,    0,    0,    0,    0,    0,    0,    0,    0,    0,\n",
              "           0,    0,    0,    0,    0,    0,    0,    0,    0,    0,    0,\n",
              "           0,    0,    0,    0,    0,    0,    0,    0,    0,    0,    0,\n",
              "           0,    0,    0,    0,    0,    0,    0,    0,    0,    0, 2734,\n",
              "        3874]], dtype=int32)"
            ]
          },
          "metadata": {},
          "execution_count": 24
        }
      ]
    },
    {
      "cell_type": "code",
      "source": [
        "from sklearn.metrics import classification_report, confusion_matrix\n",
        "\n",
        "\n"
      ],
      "metadata": {
        "id": "09RJVFl_A_hz"
      },
      "execution_count": null,
      "outputs": []
    },
    {
      "cell_type": "markdown",
      "source": [
        "##BERT Model"
      ],
      "metadata": {
        "id": "SeP0rawBdwrU"
      }
    },
    {
      "cell_type": "code",
      "source": [
        "# import the libraries\n",
        "import tensorflow as tf\n",
        "import tensorflow_hub as hub\n",
        "import tensorflow_text as text\n",
        "import pandas as pd"
      ],
      "metadata": {
        "id": "AGBAixF1d28S"
      },
      "execution_count": null,
      "outputs": []
    },
    {
      "cell_type": "markdown",
      "source": [
        "## Load the data"
      ],
      "metadata": {
        "id": "jg3LM4Jfd6uQ"
      }
    },
    {
      "cell_type": "markdown",
      "source": [
        "## Data Summary and Preprocessing"
      ],
      "metadata": {
        "id": "nsI697WQecrG"
      }
    },
    {
      "cell_type": "code",
      "source": [
        "# checking if the classes are balanced\n",
        "training_data['misogynous'].value_counts()"
      ],
      "metadata": {
        "colab": {
          "base_uri": "https://localhost:8080/"
        },
        "id": "HVQJRRQxd6an",
        "outputId": "b17dac7d-dac4-41a0-f3d8-c3665158e650"
      },
      "execution_count": null,
      "outputs": [
        {
          "output_type": "execute_result",
          "data": {
            "text/plain": [
              "0    5000\n",
              "1    5000\n",
              "Name: misogynous, dtype: int64"
            ]
          },
          "metadata": {},
          "execution_count": 27
        }
      ]
    },
    {
      "cell_type": "code",
      "source": [
        "#The classes are evenly distributed (i.e. balanced class)."
      ],
      "metadata": {
        "id": "TNL3M5C4eO-M"
      },
      "execution_count": null,
      "outputs": []
    },
    {
      "cell_type": "code",
      "source": [
        "# splitting the data into train and test set\n",
        "from sklearn.model_selection import train_test_split\n",
        "df=training_data\n",
        "df1=trial_data\n",
        "X_train, X_test, y_train, y_test = df['Text Transcription'],df1['Text Transcription'],df['misogynous'],df1['misogynous']"
      ],
      "metadata": {
        "id": "co1YSSEj5vn2"
      },
      "execution_count": null,
      "outputs": []
    },
    {
      "cell_type": "code",
      "source": [
        "# downloading the pre-trained BERT model from tfhub\n",
        "bert_preprocess = hub.KerasLayer(\"https://tfhub.dev/tensorflow/bert_en_uncased_preprocess/3\")\n",
        "bert_encoder = hub.KerasLayer(\"https://tfhub.dev/tensorflow/bert_en_uncased_L-12_H-768_A-12/4\")"
      ],
      "metadata": {
        "id": "Fo4N-fWWevlJ"
      },
      "execution_count": null,
      "outputs": []
    },
    {
      "cell_type": "markdown",
      "source": [
        "Functional model below."
      ],
      "metadata": {
        "id": "OmCrZrVse2Nn"
      }
    },
    {
      "cell_type": "code",
      "source": [
        "# initializing BERT layers\n",
        "text_input = tf.keras.layers.Input(shape=(), dtype=tf.string, name='text') # input layer\n",
        "preprocessed_text = bert_preprocess(text_input)\n",
        "outputs = bert_encoder(preprocessed_text)\n",
        "\n",
        "# initializing NN layers\n",
        "\n",
        "### The Dropout layer randomly sets input units to 0 with a frequency of rate at \n",
        "### each step during training time, which helps prevent overfitting\n",
        "### Source: https://keras.io/api/layers/regularization_layers/dropout/\n",
        "l = tf.keras.layers.Dropout(0.1, name=\"dropout\")(outputs['pooled_output']) # 0.1% neuron is dropped out randomly\n",
        "l = tf.keras.layers.Dense(1, activation='sigmoid', name=\"output\")(l) # 1 neuron tells if the text is misogynous or not (i.e. 1 or 0)\n",
        "\n",
        "model = tf.keras.Model(inputs=[text_input], outputs = [l])"
      ],
      "metadata": {
        "id": "5XASXuVxezVs"
      },
      "execution_count": null,
      "outputs": []
    },
    {
      "cell_type": "code",
      "source": [
        "model.summary()"
      ],
      "metadata": {
        "colab": {
          "base_uri": "https://localhost:8080/"
        },
        "id": "4WqvKXjCe5J2",
        "outputId": "feefb17d-a86b-402c-ae9f-3bf0f8f56680"
      },
      "execution_count": null,
      "outputs": [
        {
          "output_type": "stream",
          "name": "stdout",
          "text": [
            "Model: \"model_1\"\n",
            "__________________________________________________________________________________________________\n",
            " Layer (type)                   Output Shape         Param #     Connected to                     \n",
            "==================================================================================================\n",
            " text (InputLayer)              [(None,)]            0           []                               \n",
            "                                                                                                  \n",
            " keras_layer (KerasLayer)       {'input_type_ids':   0           ['text[0][0]']                   \n",
            "                                (None, 128),                                                      \n",
            "                                 'input_word_ids':                                                \n",
            "                                (None, 128),                                                      \n",
            "                                 'input_mask': (Non                                               \n",
            "                                e, 128)}                                                          \n",
            "                                                                                                  \n",
            " keras_layer_1 (KerasLayer)     {'pooled_output': (  109482241   ['keras_layer[1][0]',            \n",
            "                                None, 768),                       'keras_layer[1][1]',            \n",
            "                                 'sequence_output':               'keras_layer[1][2]']            \n",
            "                                 (None, 128, 768),                                                \n",
            "                                 'default': (None,                                                \n",
            "                                768),                                                             \n",
            "                                 'encoder_outputs':                                               \n",
            "                                 [(None, 128, 768),                                               \n",
            "                                 (None, 128, 768),                                                \n",
            "                                 (None, 128, 768),                                                \n",
            "                                 (None, 128, 768),                                                \n",
            "                                 (None, 128, 768),                                                \n",
            "                                 (None, 128, 768),                                                \n",
            "                                 (None, 128, 768),                                                \n",
            "                                 (None, 128, 768),                                                \n",
            "                                 (None, 128, 768),                                                \n",
            "                                 (None, 128, 768),                                                \n",
            "                                 (None, 128, 768),                                                \n",
            "                                 (None, 128, 768)]}                                               \n",
            "                                                                                                  \n",
            " dropout (Dropout)              (None, 768)          0           ['keras_layer_1[1][13]']         \n",
            "                                                                                                  \n",
            " output (Dense)                 (None, 1)            769         ['dropout[0][0]']                \n",
            "                                                                                                  \n",
            "==================================================================================================\n",
            "Total params: 109,483,010\n",
            "Trainable params: 769\n",
            "Non-trainable params: 109,482,241\n",
            "__________________________________________________________________________________________________\n"
          ]
        }
      ]
    },
    {
      "cell_type": "markdown",
      "source": [
        "## Model Training"
      ],
      "metadata": {
        "id": "kITOFHMce97t"
      }
    },
    {
      "cell_type": "code",
      "source": [
        "# accuracy metrics\n",
        "METRICS = [\n",
        "      tf.keras.metrics.BinaryAccuracy(name='accuracy'),\n",
        "      tf.keras.metrics.Precision(name='precision'),\n",
        "      tf.keras.metrics.Recall(name='recall')\n",
        "]\n",
        "\n",
        "model.compile(optimizer='adam',\n",
        "              loss='binary_crossentropy',\n",
        "              metrics=METRICS)"
      ],
      "metadata": {
        "id": "fLJEwbcs3n4s"
      },
      "execution_count": null,
      "outputs": []
    },
    {
      "cell_type": "code",
      "source": [
        "history = model.fit(X_train, y_train, epochs=20, validation_data=(X_test, y_test))"
      ],
      "metadata": {
        "colab": {
          "base_uri": "https://localhost:8080/"
        },
        "id": "awWDxx-D34te",
        "outputId": "3e5f4a99-5af1-4df9-95a1-83f5643c26c5"
      },
      "execution_count": 56,
      "outputs": [
        {
          "output_type": "stream",
          "name": "stdout",
          "text": [
            "Epoch 1/20\n",
            "313/313 [==============================] - 104s 333ms/step - loss: 0.6196 - accuracy: 0.6579 - precision: 0.6599 - recall: 0.6518 - val_loss: 0.5595 - val_accuracy: 0.7800 - val_precision: 0.7750 - val_recall: 0.7045\n",
            "Epoch 2/20\n",
            "313/313 [==============================] - 103s 331ms/step - loss: 0.6170 - accuracy: 0.6577 - precision: 0.6619 - recall: 0.6448 - val_loss: 0.5615 - val_accuracy: 0.8000 - val_precision: 0.9000 - val_recall: 0.6136\n",
            "Epoch 3/20\n",
            "313/313 [==============================] - 103s 330ms/step - loss: 0.6146 - accuracy: 0.6596 - precision: 0.6613 - recall: 0.6544 - val_loss: 0.5521 - val_accuracy: 0.7900 - val_precision: 0.8286 - val_recall: 0.6591\n",
            "Epoch 4/20\n",
            "313/313 [==============================] - 104s 331ms/step - loss: 0.6184 - accuracy: 0.6574 - precision: 0.6584 - recall: 0.6542 - val_loss: 0.5615 - val_accuracy: 0.7400 - val_precision: 0.6875 - val_recall: 0.7500\n",
            "Epoch 5/20\n",
            "313/313 [==============================] - 103s 330ms/step - loss: 0.6108 - accuracy: 0.6701 - precision: 0.6724 - recall: 0.6634 - val_loss: 0.5530 - val_accuracy: 0.7700 - val_precision: 0.7561 - val_recall: 0.7045\n",
            "Epoch 6/20\n",
            "313/313 [==============================] - 104s 331ms/step - loss: 0.6136 - accuracy: 0.6654 - precision: 0.6677 - recall: 0.6584 - val_loss: 0.5517 - val_accuracy: 0.8000 - val_precision: 0.8333 - val_recall: 0.6818\n",
            "Epoch 7/20\n",
            "313/313 [==============================] - 103s 329ms/step - loss: 0.6122 - accuracy: 0.6637 - precision: 0.6688 - recall: 0.6486 - val_loss: 0.5474 - val_accuracy: 0.7900 - val_precision: 0.8485 - val_recall: 0.6364\n",
            "Epoch 8/20\n",
            "313/313 [==============================] - 103s 330ms/step - loss: 0.6080 - accuracy: 0.6695 - precision: 0.6718 - recall: 0.6628 - val_loss: 0.6183 - val_accuracy: 0.5900 - val_precision: 0.5200 - val_recall: 0.8864\n",
            "Epoch 9/20\n",
            "313/313 [==============================] - 103s 329ms/step - loss: 0.6093 - accuracy: 0.6679 - precision: 0.6693 - recall: 0.6638 - val_loss: 0.5450 - val_accuracy: 0.7800 - val_precision: 0.7895 - val_recall: 0.6818\n",
            "Epoch 10/20\n",
            "313/313 [==============================] - 103s 329ms/step - loss: 0.6082 - accuracy: 0.6757 - precision: 0.6789 - recall: 0.6668 - val_loss: 0.5717 - val_accuracy: 0.6800 - val_precision: 0.6000 - val_recall: 0.8182\n",
            "Epoch 11/20\n",
            "313/313 [==============================] - 103s 329ms/step - loss: 0.6090 - accuracy: 0.6691 - precision: 0.6736 - recall: 0.6562 - val_loss: 0.5391 - val_accuracy: 0.7700 - val_precision: 0.8182 - val_recall: 0.6136\n",
            "Epoch 12/20\n",
            "313/313 [==============================] - 103s 329ms/step - loss: 0.6107 - accuracy: 0.6689 - precision: 0.6692 - recall: 0.6680 - val_loss: 0.5436 - val_accuracy: 0.7700 - val_precision: 0.8889 - val_recall: 0.5455\n",
            "Epoch 13/20\n",
            "313/313 [==============================] - 104s 331ms/step - loss: 0.6060 - accuracy: 0.6673 - precision: 0.6712 - recall: 0.6558 - val_loss: 0.5493 - val_accuracy: 0.7500 - val_precision: 0.7111 - val_recall: 0.7273\n",
            "Epoch 14/20\n",
            "313/313 [==============================] - 103s 330ms/step - loss: 0.6087 - accuracy: 0.6717 - precision: 0.6755 - recall: 0.6610 - val_loss: 0.5451 - val_accuracy: 0.7700 - val_precision: 0.7442 - val_recall: 0.7273\n",
            "Epoch 15/20\n",
            "313/313 [==============================] - 103s 330ms/step - loss: 0.6051 - accuracy: 0.6712 - precision: 0.6751 - recall: 0.6600 - val_loss: 0.5681 - val_accuracy: 0.6900 - val_precision: 0.6102 - val_recall: 0.8182\n",
            "Epoch 16/20\n",
            "313/313 [==============================] - 103s 330ms/step - loss: 0.6066 - accuracy: 0.6690 - precision: 0.6722 - recall: 0.6596 - val_loss: 0.5377 - val_accuracy: 0.7900 - val_precision: 0.8108 - val_recall: 0.6818\n",
            "Epoch 17/20\n",
            "313/313 [==============================] - 103s 331ms/step - loss: 0.6066 - accuracy: 0.6699 - precision: 0.6718 - recall: 0.6644 - val_loss: 0.5493 - val_accuracy: 0.7700 - val_precision: 0.7333 - val_recall: 0.7500\n",
            "Epoch 18/20\n",
            "313/313 [==============================] - 103s 330ms/step - loss: 0.6037 - accuracy: 0.6748 - precision: 0.6776 - recall: 0.6670 - val_loss: 0.5971 - val_accuracy: 0.6000 - val_precision: 0.5263 - val_recall: 0.9091\n",
            "Epoch 19/20\n",
            "313/313 [==============================] - 103s 330ms/step - loss: 0.6013 - accuracy: 0.6796 - precision: 0.6830 - recall: 0.6704 - val_loss: 0.5420 - val_accuracy: 0.7800 - val_precision: 0.7750 - val_recall: 0.7045\n",
            "Epoch 20/20\n",
            "313/313 [==============================] - 103s 330ms/step - loss: 0.6041 - accuracy: 0.6730 - precision: 0.6760 - recall: 0.6646 - val_loss: 0.5411 - val_accuracy: 0.8000 - val_precision: 0.8000 - val_recall: 0.7273\n"
          ]
        }
      ]
    },
    {
      "cell_type": "code",
      "source": [
        "loss, accuracy, precision, recall = model.evaluate(X_test, y_test)"
      ],
      "metadata": {
        "id": "vPFQtJml6STV",
        "colab": {
          "base_uri": "https://localhost:8080/"
        },
        "outputId": "ebea4121-d0b4-45ac-e14e-58575ca9160b"
      },
      "execution_count": 57,
      "outputs": [
        {
          "output_type": "stream",
          "name": "stdout",
          "text": [
            "4/4 [==============================] - 1s 233ms/step - loss: 0.5411 - accuracy: 0.8000 - precision: 0.8000 - recall: 0.7273\n"
          ]
        }
      ]
    },
    {
      "cell_type": "code",
      "source": [
        "print(f'loss: {loss}')\n",
        "print(f'accuracy: {accuracy}')\n",
        "print(f'precision: {precision}')\n",
        "print(f'recall: {recall}')"
      ],
      "metadata": {
        "id": "StIiynOo6U8S",
        "colab": {
          "base_uri": "https://localhost:8080/"
        },
        "outputId": "448e88c1-04ef-4fdd-9dd3-9121bb8e4cf6"
      },
      "execution_count": 58,
      "outputs": [
        {
          "output_type": "stream",
          "name": "stdout",
          "text": [
            "loss: 0.5411368608474731\n",
            "accuracy: 0.800000011920929\n",
            "precision: 0.800000011920929\n",
            "recall: 0.7272727489471436\n"
          ]
        }
      ]
    },
    {
      "cell_type": "code",
      "source": [
        "import matplotlib.pyplot as plt\n",
        "history_dict = history.history\n",
        "print(history_dict.keys())\n",
        "\n",
        "acc = history_dict['accuracy']\n",
        "val_acc = history_dict['val_accuracy']\n",
        "lo = history_dict['loss']\n",
        "val_lo = history_dict['val_loss']\n",
        "prec = history_dict['precision']\n",
        "val_prec = history_dict['val_precision']\n",
        "rec = history_dict['recall']\n",
        "val_rec = history_dict['val_recall']\n",
        "\n",
        "epochs = range(1, len(acc) + 1)\n",
        "fig = plt.figure(figsize=(10, 24))\n",
        "fig.tight_layout()\n",
        "\n",
        "plt.subplot(4, 1, 1)\n",
        "# r is for \"solid red line\"\n",
        "plt.plot(epochs, lo, 'r', label='Training loss')\n",
        "# b is for \"solid blue line\"\n",
        "plt.plot(epochs, val_lo, 'b', label='Validation loss')\n",
        "plt.title('Training and validation loss')\n",
        "# plt.xlabel('Epochs')\n",
        "plt.ylabel('Loss')\n",
        "plt.legend()\n",
        "\n",
        "plt.subplot(4, 1, 2)\n",
        "plt.plot(epochs, acc, 'r', label='Training acc')\n",
        "plt.plot(epochs, val_acc, 'b', label='Validation acc')\n",
        "plt.title('Training and validation accuracy')\n",
        "plt.xlabel('Epochs')\n",
        "plt.ylabel('Accuracy')\n",
        "plt.legend(loc='lower right')\n",
        "\n",
        "plt.subplot(4, 1, 3)\n",
        "plt.plot(epochs, prec, 'r', label='Training precision')\n",
        "plt.plot(epochs, val_prec, 'b', label='Validation precision')\n",
        "plt.title('Training and validation precision')\n",
        "plt.xlabel('Epochs')\n",
        "plt.ylabel('Precision')\n",
        "plt.legend(loc='lower right')\n",
        "\n",
        "plt.subplot(4, 1, 4)\n",
        "plt.plot(epochs, rec, 'r', label='Training recall')\n",
        "plt.plot(epochs, val_rec, 'b', label='Validation recall')\n",
        "plt.title('Training and validation recall')\n",
        "plt.xlabel('Epochs')\n",
        "plt.ylabel('Recall')\n",
        "plt.legend(loc='lower right')"
      ],
      "metadata": {
        "id": "wRAfklYX6XyS",
        "colab": {
          "base_uri": "https://localhost:8080/",
          "height": 1000
        },
        "outputId": "cdf97f0d-012f-4821-8b7b-96b466d69dbd"
      },
      "execution_count": 59,
      "outputs": [
        {
          "output_type": "stream",
          "name": "stdout",
          "text": [
            "dict_keys(['loss', 'accuracy', 'precision', 'recall', 'val_loss', 'val_accuracy', 'val_precision', 'val_recall'])\n"
          ]
        },
        {
          "output_type": "execute_result",
          "data": {
            "text/plain": [
              "<matplotlib.legend.Legend at 0x7f96e7570a90>"
            ]
          },
          "metadata": {},
          "execution_count": 59
        },
        {
          "output_type": "display_data",
          "data": {
            "text/plain": [
              "<Figure size 720x1728 with 4 Axes>"
            ],
            "image/png": "[encoded data removed]"
          },
          "metadata": {
            "needs_background": "light"
          }
        }
      ]
    }
  ]
}